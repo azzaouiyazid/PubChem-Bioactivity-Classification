{
 "cells": [
  {
   "cell_type": "code",
   "execution_count": 1,
   "id": "2b2e8665",
   "metadata": {},
   "outputs": [],
   "source": [
    "import numpy as np \n",
    "import pandas as pd \n",
    "from sklearn import preprocessing\n",
    "import matplotlib.pyplot as plt "
   ]
  },
  {
   "cell_type": "code",
   "execution_count": 2,
   "id": "85cae8c7",
   "metadata": {},
   "outputs": [
    {
     "name": "stdout",
     "output_type": "stream",
     "text": [
      "<class 'pandas.core.frame.DataFrame'>\n",
      "RangeIndex: 10325 entries, 0 to 10324\n",
      "Data columns (total 37 columns):\n",
      " #   Column                         Non-Null Count  Dtype  \n",
      "---  ------                         --------------  -----  \n",
      " 0   PUBCHEM_RESULT_TAG             10325 non-null  object \n",
      " 1   PUBCHEM_SID                    10320 non-null  float64\n",
      " 2   PUBCHEM_CID                    10296 non-null  float64\n",
      " 3   PUBCHEM_EXT_DATASOURCE_SMILES  10296 non-null  object \n",
      " 4   PUBCHEM_ACTIVITY_OUTCOME       10320 non-null  object \n",
      " 5   PUBCHEM_ACTIVITY_SCORE         10320 non-null  float64\n",
      " 6   PUBCHEM_ACTIVITY_URL           0 non-null      float64\n",
      " 7   PUBCHEM_ASSAYDATA_COMMENT      0 non-null      float64\n",
      " 8   Phenotype                      10322 non-null  object \n",
      " 9   Potency                        3086 non-null   object \n",
      " 10  Efficacy                       3085 non-null   object \n",
      " 11  Analysis Comment               2 non-null      object \n",
      " 12  Curve_Description              3126 non-null   object \n",
      " 13  Fit_LogAC50                    3085 non-null   object \n",
      " 14  Fit_HillSlope                  3085 non-null   object \n",
      " 15  Fit_R2                         3085 non-null   object \n",
      " 16  Fit_InfiniteActivity           3085 non-null   object \n",
      " 17  Fit_ZeroActivity               3085 non-null   object \n",
      " 18  Fit_CurveClass                 10323 non-null  object \n",
      " 19  Excluded_Points                3084 non-null   object \n",
      " 20  Max_Response                   10323 non-null  object \n",
      " 21  Activity at 0.0007000000 uM    6850 non-null   object \n",
      " 22  Activity at 0.00160 uM         3751 non-null   object \n",
      " 23  Activity at 0.00370 uM         9062 non-null   object \n",
      " 24  Activity at 0.00820 uM         3751 non-null   object \n",
      " 25  Activity at 0.018 uM           10324 non-null  object \n",
      " 26  Activity at 0.041 uM           3751 non-null   object \n",
      " 27  Activity at 0.092 uM           10324 non-null  object \n",
      " 28  Activity at 0.205 uM           3751 non-null   object \n",
      " 29  Activity at 0.457 uM           10324 non-null  object \n",
      " 30  Activity at 1.022 uM           3751 non-null   object \n",
      " 31  Activity at 2.286 uM           10324 non-null  object \n",
      " 32  Activity at 5.112 uM           3751 non-null   object \n",
      " 33  Activity at 11.43 uM           9324 non-null   object \n",
      " 34  Activity at 25.56 uM           3751 non-null   object \n",
      " 35  Activity at 57.14 uM           5110 non-null   object \n",
      " 36  Compound QC                    10322 non-null  object \n",
      "dtypes: float64(5), object(32)\n",
      "memory usage: 2.9+ MB\n"
     ]
    }
   ],
   "source": [
    "df = pd.read_csv(\"data/AID_883_datatable_all.csv\")\n",
    "df.info()"
   ]
  },
  {
   "cell_type": "code",
   "execution_count": 3,
   "id": "d44feb66",
   "metadata": {},
   "outputs": [
    {
     "name": "stdout",
     "output_type": "stream",
     "text": [
      "<class 'pandas.core.frame.DataFrame'>\n",
      "Int64Index: 10296 entries, 5 to 10324\n",
      "Data columns (total 37 columns):\n",
      " #   Column                         Non-Null Count  Dtype  \n",
      "---  ------                         --------------  -----  \n",
      " 0   PUBCHEM_RESULT_TAG             10296 non-null  object \n",
      " 1   PUBCHEM_SID                    10296 non-null  float64\n",
      " 2   PUBCHEM_CID                    10296 non-null  float64\n",
      " 3   PUBCHEM_EXT_DATASOURCE_SMILES  10296 non-null  object \n",
      " 4   PUBCHEM_ACTIVITY_OUTCOME       10296 non-null  object \n",
      " 5   PUBCHEM_ACTIVITY_SCORE         10296 non-null  float64\n",
      " 6   PUBCHEM_ACTIVITY_URL           0 non-null      float64\n",
      " 7   PUBCHEM_ASSAYDATA_COMMENT      0 non-null      float64\n",
      " 8   Phenotype                      10296 non-null  object \n",
      " 9   Potency                        3068 non-null   object \n",
      " 10  Efficacy                       3068 non-null   object \n",
      " 11  Analysis Comment               0 non-null      object \n",
      " 12  Curve_Description              3110 non-null   object \n",
      " 13  Fit_LogAC50                    3068 non-null   object \n",
      " 14  Fit_HillSlope                  3068 non-null   object \n",
      " 15  Fit_R2                         3068 non-null   object \n",
      " 16  Fit_InfiniteActivity           3068 non-null   object \n",
      " 17  Fit_ZeroActivity               3068 non-null   object \n",
      " 18  Fit_CurveClass                 10296 non-null  object \n",
      " 19  Excluded_Points                3068 non-null   object \n",
      " 20  Max_Response                   10296 non-null  object \n",
      " 21  Activity at 0.0007000000 uM    6822 non-null   object \n",
      " 22  Activity at 0.00160 uM         3747 non-null   object \n",
      " 23  Activity at 0.00370 uM         9034 non-null   object \n",
      " 24  Activity at 0.00820 uM         3747 non-null   object \n",
      " 25  Activity at 0.018 uM           10296 non-null  object \n",
      " 26  Activity at 0.041 uM           3747 non-null   object \n",
      " 27  Activity at 0.092 uM           10296 non-null  object \n",
      " 28  Activity at 0.205 uM           3747 non-null   object \n",
      " 29  Activity at 0.457 uM           10296 non-null  object \n",
      " 30  Activity at 1.022 uM           3747 non-null   object \n",
      " 31  Activity at 2.286 uM           10296 non-null  object \n",
      " 32  Activity at 5.112 uM           3747 non-null   object \n",
      " 33  Activity at 11.43 uM           9296 non-null   object \n",
      " 34  Activity at 25.56 uM           3747 non-null   object \n",
      " 35  Activity at 57.14 uM           5106 non-null   object \n",
      " 36  Compound QC                    10296 non-null  object \n",
      "dtypes: float64(5), object(32)\n",
      "memory usage: 3.0+ MB\n"
     ]
    }
   ],
   "source": [
    "df=df.dropna(subset=[\"PUBCHEM_EXT_DATASOURCE_SMILES\",\"PUBCHEM_ACTIVITY_SCORE\"])\n",
    "df.info()"
   ]
  },
  {
   "cell_type": "code",
   "execution_count": 4,
   "id": "4aa6b0b0",
   "metadata": {},
   "outputs": [
    {
     "name": "stdout",
     "output_type": "stream",
     "text": [
      "<class 'pandas.core.frame.DataFrame'>\n",
      "Int64Index: 10296 entries, 5 to 10324\n",
      "Data columns (total 37 columns):\n",
      " #   Column                         Non-Null Count  Dtype  \n",
      "---  ------                         --------------  -----  \n",
      " 0   PUBCHEM_RESULT_TAG             10296 non-null  object \n",
      " 1   PUBCHEM_SID                    10296 non-null  float64\n",
      " 2   PUBCHEM_CID                    10296 non-null  float64\n",
      " 3   PUBCHEM_EXT_DATASOURCE_SMILES  10296 non-null  object \n",
      " 4   PUBCHEM_ACTIVITY_OUTCOME       10296 non-null  object \n",
      " 5   PUBCHEM_ACTIVITY_SCORE         10296 non-null  float64\n",
      " 6   PUBCHEM_ACTIVITY_URL           0 non-null      float64\n",
      " 7   PUBCHEM_ASSAYDATA_COMMENT      0 non-null      float64\n",
      " 8   Phenotype                      10296 non-null  object \n",
      " 9   Potency                        3068 non-null   object \n",
      " 10  Efficacy                       3068 non-null   object \n",
      " 11  Analysis Comment               0 non-null      object \n",
      " 12  Curve_Description              3110 non-null   object \n",
      " 13  Fit_LogAC50                    3068 non-null   object \n",
      " 14  Fit_HillSlope                  3068 non-null   object \n",
      " 15  Fit_R2                         3068 non-null   object \n",
      " 16  Fit_InfiniteActivity           3068 non-null   object \n",
      " 17  Fit_ZeroActivity               3068 non-null   object \n",
      " 18  Fit_CurveClass                 10296 non-null  object \n",
      " 19  Excluded_Points                3068 non-null   object \n",
      " 20  Max_Response                   10296 non-null  object \n",
      " 21  Activity at 0.0007000000 uM    6822 non-null   object \n",
      " 22  Activity at 0.00160 uM         3747 non-null   object \n",
      " 23  Activity at 0.00370 uM         9034 non-null   object \n",
      " 24  Activity at 0.00820 uM         3747 non-null   object \n",
      " 25  Activity at 0.018 uM           10296 non-null  object \n",
      " 26  Activity at 0.041 uM           3747 non-null   object \n",
      " 27  Activity at 0.092 uM           10296 non-null  object \n",
      " 28  Activity at 0.205 uM           3747 non-null   object \n",
      " 29  Activity at 0.457 uM           10296 non-null  object \n",
      " 30  Activity at 1.022 uM           3747 non-null   object \n",
      " 31  Activity at 2.286 uM           10296 non-null  object \n",
      " 32  Activity at 5.112 uM           3747 non-null   object \n",
      " 33  Activity at 11.43 uM           9296 non-null   object \n",
      " 34  Activity at 25.56 uM           3747 non-null   object \n",
      " 35  Activity at 57.14 uM           5106 non-null   object \n",
      " 36  Compound QC                    10296 non-null  object \n",
      "dtypes: float64(5), object(32)\n",
      "memory usage: 3.0+ MB\n"
     ]
    }
   ],
   "source": [
    "df= df.dropna(subset=[\"PUBCHEM_EXT_DATASOURCE_SMILES\"])\n",
    "df.info()"
   ]
  },
  {
   "cell_type": "code",
   "execution_count": 5,
   "id": "87e4e47e",
   "metadata": {},
   "outputs": [
    {
     "name": "stdout",
     "output_type": "stream",
     "text": [
      "<class 'pandas.core.frame.DataFrame'>\n",
      "Int64Index: 10296 entries, 5 to 10324\n",
      "Data columns (total 37 columns):\n",
      " #   Column                         Non-Null Count  Dtype  \n",
      "---  ------                         --------------  -----  \n",
      " 0   PUBCHEM_RESULT_TAG             10296 non-null  object \n",
      " 1   PUBCHEM_SID                    10296 non-null  float64\n",
      " 2   PUBCHEM_CID                    10296 non-null  float64\n",
      " 3   PUBCHEM_EXT_DATASOURCE_SMILES  10296 non-null  object \n",
      " 4   PUBCHEM_ACTIVITY_OUTCOME       10296 non-null  object \n",
      " 5   PUBCHEM_ACTIVITY_SCORE         10296 non-null  float64\n",
      " 6   PUBCHEM_ACTIVITY_URL           0 non-null      float64\n",
      " 7   PUBCHEM_ASSAYDATA_COMMENT      0 non-null      float64\n",
      " 8   Phenotype                      10296 non-null  object \n",
      " 9   Potency                        3068 non-null   object \n",
      " 10  Efficacy                       3068 non-null   object \n",
      " 11  Analysis Comment               0 non-null      object \n",
      " 12  Curve_Description              3110 non-null   object \n",
      " 13  Fit_LogAC50                    3068 non-null   object \n",
      " 14  Fit_HillSlope                  3068 non-null   object \n",
      " 15  Fit_R2                         3068 non-null   object \n",
      " 16  Fit_InfiniteActivity           3068 non-null   object \n",
      " 17  Fit_ZeroActivity               3068 non-null   object \n",
      " 18  Fit_CurveClass                 10296 non-null  object \n",
      " 19  Excluded_Points                3068 non-null   object \n",
      " 20  Max_Response                   10296 non-null  object \n",
      " 21  Activity at 0.0007000000 uM    6822 non-null   object \n",
      " 22  Activity at 0.00160 uM         3747 non-null   object \n",
      " 23  Activity at 0.00370 uM         9034 non-null   object \n",
      " 24  Activity at 0.00820 uM         3747 non-null   object \n",
      " 25  Activity at 0.018 uM           10296 non-null  object \n",
      " 26  Activity at 0.041 uM           3747 non-null   object \n",
      " 27  Activity at 0.092 uM           10296 non-null  object \n",
      " 28  Activity at 0.205 uM           3747 non-null   object \n",
      " 29  Activity at 0.457 uM           10296 non-null  object \n",
      " 30  Activity at 1.022 uM           3747 non-null   object \n",
      " 31  Activity at 2.286 uM           10296 non-null  object \n",
      " 32  Activity at 5.112 uM           3747 non-null   object \n",
      " 33  Activity at 11.43 uM           9296 non-null   object \n",
      " 34  Activity at 25.56 uM           3747 non-null   object \n",
      " 35  Activity at 57.14 uM           5106 non-null   object \n",
      " 36  Compound QC                    10296 non-null  object \n",
      "dtypes: float64(5), object(32)\n",
      "memory usage: 3.0+ MB\n"
     ]
    }
   ],
   "source": [
    "df.drop_duplicates(subset=['PUBCHEM_EXT_DATASOURCE_SMILES'], keep='first')\n",
    "df.info()"
   ]
  },
  {
   "cell_type": "code",
   "execution_count": 6,
   "id": "0c5a4129",
   "metadata": {},
   "outputs": [],
   "source": [
    "from mhfp.encoder import MHFPEncoder"
   ]
  },
  {
   "cell_type": "code",
   "execution_count": 7,
   "id": "91f8c88e",
   "metadata": {},
   "outputs": [],
   "source": [
    "mhfp_encoder_2048 = MHFPEncoder(2048)"
   ]
  },
  {
   "cell_type": "code",
   "execution_count": 8,
   "id": "8a39641a",
   "metadata": {},
   "outputs": [],
   "source": [
    "fps_2048 = df['PUBCHEM_EXT_DATASOURCE_SMILES'].apply(mhfp_encoder_2048.encode) "
   ]
  },
  {
   "cell_type": "code",
   "execution_count": 9,
   "id": "ad501458",
   "metadata": {},
   "outputs": [],
   "source": [
    "X = pd.DataFrame(np.array(fps_2048.to_list()))"
   ]
  },
  {
   "cell_type": "code",
   "execution_count": 10,
   "id": "161b78c3",
   "metadata": {},
   "outputs": [],
   "source": [
    "def binary_score(score) :\n",
    "    if score >0 :\n",
    "        return 1\n",
    "    return 0 "
   ]
  },
  {
   "cell_type": "code",
   "execution_count": 11,
   "id": "10ac7a71",
   "metadata": {},
   "outputs": [],
   "source": [
    "df[\"binary activity\"]=df[\"PUBCHEM_ACTIVITY_SCORE\"].map(binary_score)"
   ]
  },
  {
   "cell_type": "code",
   "execution_count": 12,
   "id": "5ec2ae9e",
   "metadata": {},
   "outputs": [],
   "source": [
    "y=df.iloc[: , -1]"
   ]
  },
  {
   "cell_type": "code",
   "execution_count": 13,
   "id": "c6667c1d",
   "metadata": {},
   "outputs": [],
   "source": [
    "from sklearn.model_selection import train_test_split"
   ]
  },
  {
   "cell_type": "code",
   "execution_count": 14,
   "id": "053ef1e6",
   "metadata": {},
   "outputs": [
    {
     "data": {
      "text/plain": [
       "((10296, 2048), (8236,))"
      ]
     },
     "execution_count": 14,
     "metadata": {},
     "output_type": "execute_result"
    }
   ],
   "source": [
    "X_train, X_test, y_train, y_test = train_test_split(X, y,test_size=0.2,random_state=42)\n",
    "X.shape,y_train.shape"
   ]
  },
  {
   "cell_type": "code",
   "execution_count": 15,
   "id": "d96cb710",
   "metadata": {},
   "outputs": [],
   "source": [
    "from sklearn.preprocessing import StandardScaler"
   ]
  },
  {
   "cell_type": "code",
   "execution_count": 16,
   "id": "03e1bfa2",
   "metadata": {},
   "outputs": [
    {
     "data": {
      "text/plain": [
       "(8236, 2048)"
      ]
     },
     "execution_count": 16,
     "metadata": {},
     "output_type": "execute_result"
    }
   ],
   "source": [
    "scaler =StandardScaler()\n",
    "scaler.fit(X_train)\n",
    "X_train_scaled=scaler.transform(X_train)\n",
    "X_test_scaled=scaler.transform(X_test)\n",
    "\n",
    "X_train_scaled.shape"
   ]
  },
  {
   "cell_type": "code",
   "execution_count": 17,
   "id": "ce9490c3",
   "metadata": {},
   "outputs": [],
   "source": [
    "from sklearn.linear_model import LogisticRegression"
   ]
  },
  {
   "cell_type": "code",
   "execution_count": 18,
   "id": "13d76e88",
   "metadata": {},
   "outputs": [
    {
     "data": {
      "text/plain": [
       "LogisticRegression(max_iter=1000)"
      ]
     },
     "execution_count": 18,
     "metadata": {},
     "output_type": "execute_result"
    }
   ],
   "source": [
    "log_reg=LogisticRegression(max_iter=1000)\n",
    "log_reg.fit(X_train_scaled,y_train)"
   ]
  },
  {
   "cell_type": "code",
   "execution_count": 19,
   "id": "73daa97b",
   "metadata": {},
   "outputs": [],
   "source": [
    "from sklearn.ensemble import RandomForestClassifier"
   ]
  },
  {
   "cell_type": "code",
   "execution_count": 20,
   "id": "cbc04531",
   "metadata": {},
   "outputs": [
    {
     "data": {
      "text/plain": [
       "RandomForestClassifier(max_depth=15)"
      ]
     },
     "execution_count": 20,
     "metadata": {},
     "output_type": "execute_result"
    }
   ],
   "source": [
    "forest_model = RandomForestClassifier(max_depth=15)\n",
    "forest_model.fit(X_train_scaled,y_train)"
   ]
  },
  {
   "cell_type": "code",
   "execution_count": 21,
   "id": "2f9e468b",
   "metadata": {},
   "outputs": [],
   "source": [
    "from sklearn.svm import SVC"
   ]
  },
  {
   "cell_type": "code",
   "execution_count": 22,
   "id": "2ce22164",
   "metadata": {},
   "outputs": [
    {
     "data": {
      "text/plain": [
       "SVC()"
      ]
     },
     "execution_count": 22,
     "metadata": {},
     "output_type": "execute_result"
    }
   ],
   "source": [
    "svm_model = SVC()\n",
    "svm_model.fit(X_train_scaled, y_train)"
   ]
  },
  {
   "cell_type": "code",
   "execution_count": 23,
   "id": "6a8834d2",
   "metadata": {},
   "outputs": [
    {
     "name": "stdout",
     "output_type": "stream",
     "text": [
      "Scores for SVC(C=100): [0.77063107 0.77305825 0.78580097 0.76031553 0.77669903]\n",
      "Scores for RandomForestClassifier(max_depth=15): [0.79126214 0.80825243 0.81128641 0.79854369 0.80885922]\n"
     ]
    },
    {
     "name": "stderr",
     "output_type": "stream",
     "text": [
      "C:\\Users\\Electro-Market.ma\\anaconda3\\lib\\site-packages\\sklearn\\linear_model\\_logistic.py:814: ConvergenceWarning: lbfgs failed to converge (status=1):\n",
      "STOP: TOTAL NO. of ITERATIONS REACHED LIMIT.\n",
      "\n",
      "Increase the number of iterations (max_iter) or scale the data as shown in:\n",
      "    https://scikit-learn.org/stable/modules/preprocessing.html\n",
      "Please also refer to the documentation for alternative solver options:\n",
      "    https://scikit-learn.org/stable/modules/linear_model.html#logistic-regression\n",
      "  n_iter_i = _check_optimize_result(\n",
      "C:\\Users\\Electro-Market.ma\\anaconda3\\lib\\site-packages\\sklearn\\linear_model\\_logistic.py:814: ConvergenceWarning: lbfgs failed to converge (status=1):\n",
      "STOP: TOTAL NO. of ITERATIONS REACHED LIMIT.\n",
      "\n",
      "Increase the number of iterations (max_iter) or scale the data as shown in:\n",
      "    https://scikit-learn.org/stable/modules/preprocessing.html\n",
      "Please also refer to the documentation for alternative solver options:\n",
      "    https://scikit-learn.org/stable/modules/linear_model.html#logistic-regression\n",
      "  n_iter_i = _check_optimize_result(\n",
      "C:\\Users\\Electro-Market.ma\\anaconda3\\lib\\site-packages\\sklearn\\linear_model\\_logistic.py:814: ConvergenceWarning: lbfgs failed to converge (status=1):\n",
      "STOP: TOTAL NO. of ITERATIONS REACHED LIMIT.\n",
      "\n",
      "Increase the number of iterations (max_iter) or scale the data as shown in:\n",
      "    https://scikit-learn.org/stable/modules/preprocessing.html\n",
      "Please also refer to the documentation for alternative solver options:\n",
      "    https://scikit-learn.org/stable/modules/linear_model.html#logistic-regression\n",
      "  n_iter_i = _check_optimize_result(\n",
      "C:\\Users\\Electro-Market.ma\\anaconda3\\lib\\site-packages\\sklearn\\linear_model\\_logistic.py:814: ConvergenceWarning: lbfgs failed to converge (status=1):\n",
      "STOP: TOTAL NO. of ITERATIONS REACHED LIMIT.\n",
      "\n",
      "Increase the number of iterations (max_iter) or scale the data as shown in:\n",
      "    https://scikit-learn.org/stable/modules/preprocessing.html\n",
      "Please also refer to the documentation for alternative solver options:\n",
      "    https://scikit-learn.org/stable/modules/linear_model.html#logistic-regression\n",
      "  n_iter_i = _check_optimize_result(\n"
     ]
    },
    {
     "name": "stdout",
     "output_type": "stream",
     "text": [
      "Scores for LogisticRegression(): [0.7038835  0.72936893 0.73847087 0.73240291 0.7190534 ]\n",
      "The best model is RandomForestClassifier(max_depth=15).\n"
     ]
    },
    {
     "name": "stderr",
     "output_type": "stream",
     "text": [
      "C:\\Users\\Electro-Market.ma\\anaconda3\\lib\\site-packages\\sklearn\\linear_model\\_logistic.py:814: ConvergenceWarning: lbfgs failed to converge (status=1):\n",
      "STOP: TOTAL NO. of ITERATIONS REACHED LIMIT.\n",
      "\n",
      "Increase the number of iterations (max_iter) or scale the data as shown in:\n",
      "    https://scikit-learn.org/stable/modules/preprocessing.html\n",
      "Please also refer to the documentation for alternative solver options:\n",
      "    https://scikit-learn.org/stable/modules/linear_model.html#logistic-regression\n",
      "  n_iter_i = _check_optimize_result(\n"
     ]
    }
   ],
   "source": [
    "# The maximum number of iterations for each model is set to 100 to ensure that the models are fully trained.\n",
    "# The models are then evaluated using 5-fold cross-validation, and the resulting scores are stored in a list.\n",
    "# Finally, the model with the highest mean cross-validation score is selected and printed \n",
    "# references : Titanic_TF_version.ipynb \n",
    "from sklearn.model_selection import cross_val_score\n",
    "from sklearn.model_selection import ShuffleSplit\n",
    "cv = ShuffleSplit(n_splits=5, test_size=0.2, random_state=42)\n",
    "#list of models to evaluate\n",
    "models = [svm_model, forest_model, log_reg]\n",
    "\n",
    "# Set the maximum number of iterations for each model\n",
    "max_iter = 100\n",
    "svm_model.set_params(C=max_iter)# Set the C parameter for the SVM model\n",
    "forest_model.set_params(n_estimators=max_iter)\n",
    "log_reg.set_params(max_iter=max_iter)\n",
    "\n",
    "scores = []\n",
    "\n",
    "# Iterate over the models and compute the cross-validation scores\n",
    "for model in models:\n",
    "  model_scores =  cross_val_score(model,X_train, y_train, cv=cv)\n",
    "  scores.append(model_scores)\n",
    "  print(f\"Scores for {model}: {model_scores}\")\n",
    "# Checks if the scores list is empty and selects the model with the highest mean score if it is not. This is done to avoid an IndexError that would occur if the list is empty and we try to access its elements\n",
    "if not scores:\n",
    "  print(\"Error: The scores list is empty.\")\n",
    "else:\n",
    "  # Select the model with the highest mean score\n",
    "  best_model = models[np.argmax([np.mean(score) for score in scores])] # Find the index of the model with the highest mean score\n",
    "  print(f\"The best model is {best_model}.\")"
   ]
  },
  {
   "cell_type": "code",
   "execution_count": 24,
   "id": "3f7d3f5d",
   "metadata": {},
   "outputs": [],
   "source": [
    "from sklearn.model_selection import GridSearchCV"
   ]
  },
  {
   "cell_type": "code",
   "execution_count": 25,
   "id": "ad26e702",
   "metadata": {},
   "outputs": [
    {
     "data": {
      "text/plain": [
       "{'bootstrap': True,\n",
       " 'ccp_alpha': 0.0,\n",
       " 'class_weight': None,\n",
       " 'criterion': 'gini',\n",
       " 'max_depth': 15,\n",
       " 'max_features': 'auto',\n",
       " 'max_leaf_nodes': None,\n",
       " 'max_samples': None,\n",
       " 'min_impurity_decrease': 0.0,\n",
       " 'min_samples_leaf': 1,\n",
       " 'min_samples_split': 2,\n",
       " 'min_weight_fraction_leaf': 0.0,\n",
       " 'n_estimators': 100,\n",
       " 'n_jobs': None,\n",
       " 'oob_score': False,\n",
       " 'random_state': None,\n",
       " 'verbose': 0,\n",
       " 'warm_start': False}"
      ]
     },
     "execution_count": 25,
     "metadata": {},
     "output_type": "execute_result"
    }
   ],
   "source": [
    "forest_model.get_params()"
   ]
  },
  {
   "cell_type": "code",
   "execution_count": 26,
   "id": "c6cd0530",
   "metadata": {},
   "outputs": [
    {
     "data": {
      "text/plain": [
       "GridSearchCV(estimator=RandomForestClassifier(max_depth=15),\n",
       "             param_grid={'max_depth': [10, 20, 30, 40]})"
      ]
     },
     "execution_count": 26,
     "metadata": {},
     "output_type": "execute_result"
    }
   ],
   "source": [
    "from sklearn.model_selection import GridSearchCV\n",
    "parameters = {\n",
    "     \"max_depth\": [10, 20, 30, 40],\n",
    "}\n",
    "selected_forest_model = GridSearchCV(forest_model,param_grid=parameters)\n",
    "selected_forest_model.fit(X_train_scaled, y_train)"
   ]
  },
  {
   "cell_type": "code",
   "execution_count": 27,
   "id": "2a295dad",
   "metadata": {},
   "outputs": [
    {
     "data": {
      "text/plain": [
       "{'max_depth': 30}"
      ]
     },
     "execution_count": 27,
     "metadata": {},
     "output_type": "execute_result"
    }
   ],
   "source": [
    "selected_forest_model.best_params_"
   ]
  },
  {
   "cell_type": "code",
   "execution_count": 28,
   "id": "9acb20ec",
   "metadata": {},
   "outputs": [],
   "source": [
    "optimized_forest_model = forest_model.set_params(max_depth=30)"
   ]
  },
  {
   "cell_type": "code",
   "execution_count": 29,
   "id": "6ce952b1",
   "metadata": {},
   "outputs": [
    {
     "data": {
      "text/plain": [
       "RandomForestClassifier(max_depth=30)"
      ]
     },
     "execution_count": 29,
     "metadata": {},
     "output_type": "execute_result"
    }
   ],
   "source": [
    "optimized_forest_model.fit(X_train_scaled, y_train)"
   ]
  },
  {
   "cell_type": "code",
   "execution_count": 30,
   "id": "c4094b55",
   "metadata": {},
   "outputs": [],
   "source": [
    "import tensorflow as tf"
   ]
  },
  {
   "cell_type": "code",
   "execution_count": 31,
   "id": "ce7a0d8c",
   "metadata": {},
   "outputs": [],
   "source": [
    "optimized_forest_model = tf.keras.Sequential([\n",
    "    tf.keras.layers.Dense(36, activation='relu',input_shape=(2048,)),\n",
    "    tf.keras.layers.Dense(16, activation='relu'),\n",
    "    tf.keras.layers.Dense(1, activation='sigmoid')\n",
    "])"
   ]
  },
  {
   "cell_type": "code",
   "execution_count": 32,
   "id": "60f588f2",
   "metadata": {},
   "outputs": [],
   "source": [
    "optimized_forest_model.compile(optimizer='adam',loss='binary_crossentropy',metrics=['accuracy'])"
   ]
  },
  {
   "cell_type": "code",
   "execution_count": 33,
   "id": "f7f96922",
   "metadata": {},
   "outputs": [
    {
     "name": "stdout",
     "output_type": "stream",
     "text": [
      "Epoch 1/10\n",
      "116/116 [==============================] - 13s 13ms/step - loss: 3707291.2500 - accuracy: 0.6635 - val_loss: 1130906.0000 - val_accuracy: 0.6590\n",
      "Epoch 2/10\n",
      "116/116 [==============================] - 1s 7ms/step - loss: 835029.3125 - accuracy: 0.6893 - val_loss: 466454.5312 - val_accuracy: 0.6311\n",
      "Epoch 3/10\n",
      "116/116 [==============================] - 1s 6ms/step - loss: 199764.8281 - accuracy: 0.6882 - val_loss: 342135.3750 - val_accuracy: 0.2852\n",
      "Epoch 4/10\n",
      "116/116 [==============================] - 1s 6ms/step - loss: 166135.1875 - accuracy: 0.6685 - val_loss: 71446.3906 - val_accuracy: 0.7536\n",
      "Epoch 5/10\n",
      "116/116 [==============================] - 1s 5ms/step - loss: 134063.2188 - accuracy: 0.6623 - val_loss: 125132.0078 - val_accuracy: 0.7500\n",
      "Epoch 6/10\n",
      "116/116 [==============================] - 1s 7ms/step - loss: 60803.0625 - accuracy: 0.6680 - val_loss: 27494.9883 - val_accuracy: 0.7051\n",
      "Epoch 7/10\n",
      "116/116 [==============================] - 1s 6ms/step - loss: 61689.0430 - accuracy: 0.6491 - val_loss: 48404.8438 - val_accuracy: 0.2464\n",
      "Epoch 8/10\n",
      "116/116 [==============================] - 1s 6ms/step - loss: 17119.0234 - accuracy: 0.6127 - val_loss: 8941.2832 - val_accuracy: 0.6517\n",
      "Epoch 9/10\n",
      "116/116 [==============================] - 1s 6ms/step - loss: 490.9993 - accuracy: 0.5552 - val_loss: 13368.8916 - val_accuracy: 0.4745\n",
      "Epoch 10/10\n",
      "116/116 [==============================] - 1s 6ms/step - loss: 241.5024 - accuracy: 0.7080 - val_loss: 13279.3057 - val_accuracy: 0.7512\n"
     ]
    }
   ],
   "source": [
    "history = optimized_forest_model.fit(X_train,y_train,batch_size=64,epochs=10,validation_split=0.1)"
   ]
  },
  {
   "cell_type": "code",
   "execution_count": 34,
   "id": "72ad5c6a",
   "metadata": {},
   "outputs": [
    {
     "data": {
      "image/png": "[encoded data removed]",
      "text/plain": [
       "<Figure size 432x288 with 1 Axes>"
      ]
     },
     "metadata": {
      "needs_background": "light"
     },
     "output_type": "display_data"
    }
   ],
   "source": [
    "import matplotlib.pyplot as plt\n",
    "\n",
    "def plot_metric(history, metric):\n",
    "    train_metrics = history.history[metric]\n",
    "    val_metrics = history.history['val_'+metric]\n",
    "    epochs = range(1, len(train_metrics) + 1)\n",
    "    plt.plot(epochs, train_metrics, 'bo--')\n",
    "    plt.plot(epochs, val_metrics, 'ro-')\n",
    "    plt.title('Training and validation '+ metric)\n",
    "    plt.xlabel(\"Epochs\")\n",
    "    plt.ylabel(metric)\n",
    "    plt.legend([\"train_\"+metric, 'val_'+metric])\n",
    "    plt.show()\n",
    "    \n",
    "plot_metric(history,\"loss\")"
   ]
  },
  {
   "cell_type": "code",
   "execution_count": 35,
   "id": "d8acaba4",
   "metadata": {},
   "outputs": [],
   "source": [
    "optimized_forest_model = tf.keras.Sequential([\n",
    "    tf.keras.layers.Dense( 16, activation='relu',input_shape=(2048,)),\n",
    "     tf.keras.layers.Dense(8, activation='relu'),\n",
    "    tf.keras.layers.Dense(1, activation='sigmoid')\n",
    "])\n"
   ]
  },
  {
   "cell_type": "code",
   "execution_count": 36,
   "id": "78fa08b8",
   "metadata": {},
   "outputs": [],
   "source": [
    "optimized_forest_model.compile(optimizer='adam',loss='binary_crossentropy',metrics=['accuracy'])\n"
   ]
  },
  {
   "cell_type": "code",
   "execution_count": 37,
   "id": "edaae1ec",
   "metadata": {},
   "outputs": [
    {
     "name": "stdout",
     "output_type": "stream",
     "text": [
      "Epoch 1/10\n",
      "116/116 [==============================] - 3s 9ms/step - loss: 2047106.8750 - accuracy: 0.6666 - val_loss: 1087380.0000 - val_accuracy: 0.6614\n",
      "Epoch 2/10\n",
      "116/116 [==============================] - 1s 5ms/step - loss: 904576.3750 - accuracy: 0.7103 - val_loss: 626987.2500 - val_accuracy: 0.6954\n",
      "Epoch 3/10\n",
      "116/116 [==============================] - 1s 5ms/step - loss: 505498.3750 - accuracy: 0.7308 - val_loss: 504748.5312 - val_accuracy: 0.6274\n",
      "Epoch 4/10\n",
      "116/116 [==============================] - 1s 5ms/step - loss: 305964.1875 - accuracy: 0.7524 - val_loss: 303634.0000 - val_accuracy: 0.6917\n",
      "Epoch 5/10\n",
      "116/116 [==============================] - 1s 5ms/step - loss: 232687.1406 - accuracy: 0.7563 - val_loss: 205684.4219 - val_accuracy: 0.7087\n",
      "Epoch 6/10\n",
      "116/116 [==============================] - 1s 5ms/step - loss: 89730.5625 - accuracy: 0.6882 - val_loss: 67256.2031 - val_accuracy: 0.7500\n",
      "Epoch 7/10\n",
      "116/116 [==============================] - 1s 5ms/step - loss: 14002.4580 - accuracy: 0.6508 - val_loss: 10932.2080 - val_accuracy: 0.7500\n",
      "Epoch 8/10\n",
      "116/116 [==============================] - 1s 5ms/step - loss: 9677.5752 - accuracy: 0.6732 - val_loss: 315.3820 - val_accuracy: 0.2488\n",
      "Epoch 9/10\n",
      "116/116 [==============================] - 1s 6ms/step - loss: 2533.5510 - accuracy: 0.6923 - val_loss: 2005.3635 - val_accuracy: 0.2488\n",
      "Epoch 10/10\n",
      "116/116 [==============================] - 1s 5ms/step - loss: 1887.5035 - accuracy: 0.6686 - val_loss: 2174.7859 - val_accuracy: 0.6723\n"
     ]
    }
   ],
   "source": [
    "history = optimized_forest_model.fit(X_train,y_train,batch_size=64,epochs=10,validation_split=0.1)"
   ]
  },
  {
   "cell_type": "code",
   "execution_count": 38,
   "id": "47c0a156",
   "metadata": {},
   "outputs": [
    {
     "data": {
      "image/png": "[encoded data removed]",
      "text/plain": [
       "<Figure size 432x288 with 1 Axes>"
      ]
     },
     "metadata": {
      "needs_background": "light"
     },
     "output_type": "display_data"
    }
   ],
   "source": [
    "plot_metric(history,\"loss\")"
   ]
  },
  {
   "cell_type": "markdown",
   "id": "39338927",
   "metadata": {},
   "source": []
  },
  {
   "cell_type": "code",
   "execution_count": null,
   "id": "fc6b186e",
   "metadata": {},
   "outputs": [],
   "source": []
  }
 ],
 "metadata": {
  "kernelspec": {
   "display_name": "Python 3 (ipykernel)",
   "language": "python",
   "name": "python3"
  },
  "language_info": {
   "codemirror_mode": {
    "name": "ipython",
    "version": 3
   },
   "file_extension": ".py",
   "mimetype": "text/x-python",
   "name": "python",
   "nbconvert_exporter": "python",
   "pygments_lexer": "ipython3",
   "version": "3.9.12"
  }
 },
 "nbformat": 4,
 "nbformat_minor": 5
}
